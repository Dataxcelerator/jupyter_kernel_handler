{
 "cells": [
  {
   "cell_type": "code",
   "execution_count": null,
   "id": "6dc86cbc",
   "metadata": {},
   "outputs": [],
   "source": []
  },
  {
   "cell_type": "markdown",
   "id": "0dd911c4",
   "metadata": {},
   "source": [
    "# Demo: Jupyter Cell Monitor Printing\n",
    "This notebook demonstrates the colored cell execution monitor."
   ]
  },
  {
   "cell_type": "code",
   "execution_count": null,
   "id": "a69c817d",
   "metadata": {},
   "outputs": [
    {
     "name": "stdout",
     "output_type": "stream",
     "text": [
      "\u001b[95m🎯 Cell Monitor activated! All cell executions will now be monitored.\u001b[0m\n",
      "\n",
      "\u001b[93m\u001b[1m============================================================\n",
      "✅ POST-RUN: Execution Complete\n",
      "============================================================\u001b[0m\n",
      "\u001b[93m⏱️  Execution time: 0.000 seconds\u001b[0m\n",
      "\u001b[93m📝 Lines executed: 1\u001b[0m\n",
      "\u001b[93m📊 No return value\u001b[0m\n",
      "\u001b[93m============================================================\n",
      "🎉 Cell execution completed successfully!\n",
      "============================================================\u001b[0m\n",
      "\n"
     ]
    }
   ],
   "source": [
    "# Activate kernel handler in debug mode (line-by-line real-time)\n",
    "import jupyter_kernel_handler\n",
    "\n",
    "def my_pre(cell_content):\n",
    "    print('Custom PRE:', cell_content)\n",
    "\n",
    "def my_real(text):\n",
    "    print('Custom REALTIME:', text)\n",
    "\n",
    "def my_post(result, exec_time, cell_content):\n",
    "    print('Custom POST:', result, exec_time, cell_content)\n",
    "\n",
    "jupyter_kernel_handler.set_hooks(pre_run=my_pre, realtime=my_real, post_run=my_post)\n",
    "jupyter_kernel_handler.activate(debug_mode=True)"
   ]
  },
  {
   "cell_type": "code",
   "execution_count": null,
   "id": "69c11d01",
   "metadata": {},
   "outputs": [
    {
     "name": "stdout",
     "output_type": "stream",
     "text": [
      "\n",
      "\u001b[94m\u001b[1m============================================================\n",
      "🚀 PRE-RUN: Cell Content\n",
      "============================================================\u001b[0m\n",
      "\u001b[94m[ 1] No content available\u001b[0m\n",
      "\u001b[94m============================================================\n",
      "⏱️  Execution starting...\n",
      "============================================================\u001b[0m\n",
      "\n",
      "\u001b[92m[REALTIME] Step 1: waiting...\u001b[0m\u001b[92m[REALTIME] Step 2: waiting...\u001b[0m\u001b[92m[REALTIME] Step 2: waiting...\u001b[0m\u001b[92m[REALTIME] Step 3: waiting...\u001b[0m\u001b[92m[REALTIME] Step 3: waiting...\u001b[0m\u001b[92m[REALTIME] Step 4: waiting...\u001b[0m\u001b[92m[REALTIME] Step 4: waiting...\u001b[0m\u001b[92m[REALTIME] Step 5: waiting...\u001b[0m\u001b[92m[REALTIME] Step 5: waiting...\u001b[0m\u001b[92m[REALTIME] Done!\u001b[0m\n",
      "\u001b[93m\u001b[1m============================================================\n",
      "✅ POST-RUN: Execution Complete\n",
      "============================================================\u001b[0m\n",
      "\u001b[93m⏱️  Execution time: 0.000 seconds\u001b[0m\n",
      "\u001b[93m📝 Lines executed: 1\u001b[0m\n",
      "\u001b[93m📊 No return value\u001b[0m\n",
      "\u001b[93m============================================================\n",
      "🎉 Cell execution completed successfully!\n",
      "============================================================\u001b[0m\n",
      "\n",
      "\u001b[92m[REALTIME] Done!\u001b[0m\n",
      "\u001b[93m\u001b[1m============================================================\n",
      "✅ POST-RUN: Execution Complete\n",
      "============================================================\u001b[0m\n",
      "\u001b[93m⏱️  Execution time: 0.000 seconds\u001b[0m\n",
      "\u001b[93m📝 Lines executed: 1\u001b[0m\n",
      "\u001b[93m📊 No return value\u001b[0m\n",
      "\u001b[93m============================================================\n",
      "🎉 Cell execution completed successfully!\n",
      "============================================================\u001b[0m\n",
      "\n"
     ]
    }
   ],
   "source": [
    "# Example cell to show custom hooks in action\n",
    "import time\n",
    "for i in range(3):\n",
    "    print(f\"Step {i+1}: waiting...\")\n",
    "    time.sleep(0.5)\n",
    "print(\"Done!\")"
   ]
  }
 ],
 "metadata": {
  "kernelspec": {
   "display_name": "venv",
   "language": "python",
   "name": "python3"
  },
  "language_info": {
   "codemirror_mode": {
    "name": "ipython",
    "version": 3
   },
   "file_extension": ".py",
   "mimetype": "text/x-python",
   "name": "python",
   "nbconvert_exporter": "python",
   "pygments_lexer": "ipython3",
   "version": "3.12.3"
  }
 },
 "nbformat": 4,
 "nbformat_minor": 5
}
