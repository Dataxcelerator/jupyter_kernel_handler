{
 "cells": [
  {
   "cell_type": "code",
   "execution_count": null,
   "id": "6dc86cbc",
   "metadata": {},
   "outputs": [],
   "source": []
  },
  {
   "cell_type": "markdown",
   "id": "0dd911c4",
   "metadata": {},
   "source": [
    "# Demo: Jupyter Cell Monitor Printing\n",
    "This notebook demonstrates the colored cell execution monitor."
   ]
  },
  {
   "cell_type": "code",
   "execution_count": null,
   "id": "a69c817d",
   "metadata": {},
   "outputs": [
    {
     "name": "stdout",
     "output_type": "stream",
     "text": [
      "Custom PRE: ['# Activate kernel handler in debug mode (line-by-line real-time)\\n', 'import jupyter_kernel_handler\\n', '\\n', 'def my_pre(cell_content):\\n', \"    print('Custom PRE:', cell_content)\\n\", '    # Uncomment below to block execution in blocking mode:\\n', \"    get_ipython().user_ns['_cell_allow_execution'] = False\\n\", '\\n', 'def my_real(text):\\n', \"    print('Custom REALTIME:', text)\\n\", '\\n', 'def my_post(result, exec_time, cell_content):\\n', \"    print('Custom POST:', result, exec_time, cell_content)\\n\", '\\n', 'jupyter_kernel_handler.set_hooks(pre_run=my_pre, realtime=my_real, post_run=my_post)\\n', '\\n', '# Default: non-blocking pre_run\\n', 'jupyter_kernel_handler.activate(debug_mode=False)\\n', '\\n', '# To enable blocking pre_run, use:\\n', 'jupyter_kernel_handler.activate(debug_mode=False, blocking_pre_run=True)\\n']\n"
     ]
    },
    {
     "ename": "TypeError",
     "evalue": "activate() got an unexpected keyword argument 'blocking_pre_run'",
     "output_type": "error",
     "traceback": [
      "\u001b[31m---------------------------------------------------------------------------\u001b[39m",
      "\u001b[31mTypeError\u001b[39m                                 Traceback (most recent call last)",
      "\u001b[36mCell\u001b[39m\u001b[36m \u001b[39m\u001b[32mIn[8]\u001b[39m\u001b[32m, line 21\u001b[39m\n\u001b[32m     18\u001b[39m jupyter_kernel_handler.activate(debug_mode=\u001b[38;5;28;01mFalse\u001b[39;00m)\n\u001b[32m     20\u001b[39m \u001b[38;5;66;03m# To enable blocking pre_run, use:\u001b[39;00m\n\u001b[32m---> \u001b[39m\u001b[32m21\u001b[39m \u001b[43mjupyter_kernel_handler\u001b[49m\u001b[43m.\u001b[49m\u001b[43mactivate\u001b[49m\u001b[43m(\u001b[49m\u001b[43mdebug_mode\u001b[49m\u001b[43m=\u001b[49m\u001b[38;5;28;43;01mFalse\u001b[39;49;00m\u001b[43m,\u001b[49m\u001b[43m \u001b[49m\u001b[43mblocking_pre_run\u001b[49m\u001b[43m=\u001b[49m\u001b[38;5;28;43;01mTrue\u001b[39;49;00m\u001b[43m)\u001b[49m\n",
      "\u001b[31mTypeError\u001b[39m: activate() got an unexpected keyword argument 'blocking_pre_run'"
     ]
    },
    {
     "name": "stdout",
     "output_type": "stream",
     "text": [
      "Custom POST: None 1.430511474609375e-06 ['# Activate kernel handler in debug mode (line-by-line real-time)\\n', 'import jupyter_kernel_handler\\n', '\\n', 'def my_pre(cell_content):\\n', \"    print('Custom PRE:', cell_content)\\n\", '    # Uncomment below to block execution in blocking mode:\\n', \"    get_ipython().user_ns['_cell_allow_execution'] = False\\n\", '\\n', 'def my_real(text):\\n', \"    print('Custom REALTIME:', text)\\n\", '\\n', 'def my_post(result, exec_time, cell_content):\\n', \"    print('Custom POST:', result, exec_time, cell_content)\\n\", '\\n', 'jupyter_kernel_handler.set_hooks(pre_run=my_pre, realtime=my_real, post_run=my_post)\\n', '\\n', '# Default: non-blocking pre_run\\n', 'jupyter_kernel_handler.activate(debug_mode=False)\\n', '\\n', '# To enable blocking pre_run, use:\\n', 'jupyter_kernel_handler.activate(debug_mode=False, blocking_pre_run=True)\\n']\n"
     ]
    }
   ],
   "source": [
    "# Activate kernel handler in debug mode (line-by-line real-time)\n",
    "import jupyter_kernel_handler\n",
    "\n",
    "def my_pre(cell_content):\n",
    "    print('Custom PRE:', cell_content)\n",
    "    # Uncomment below to block execution in blocking mode:\n",
    "    # get_ipython().user_ns['_cell_allow_execution'] = False\n",
    "\n",
    "def my_real(text):\n",
    "    print('Custom REALTIME:', text)\n",
    "\n",
    "def my_post(result, exec_time, cell_content):\n",
    "    print('Custom POST:', result, exec_time, cell_content)\n",
    "\n",
    "jupyter_kernel_handler.set_hooks(pre_run=my_pre, realtime=my_real, post_run=my_post)\n",
    "\n",
    "# Default: non-blocking pre_run\n",
    "jupyter_kernel_handler.activate(debug_mode=False)\n",
    "\n",
    "# To enable blocking pre_run, run this cell instead:\n",
    "# jupyter_kernel_handler.activate(debug_mode=False, blocking_pre_run=True)"
   ]
  },
  {
   "cell_type": "code",
   "execution_count": 4,
   "id": "69c11d01",
   "metadata": {},
   "outputs": [
    {
     "name": "stdout",
     "output_type": "stream",
     "text": [
      "Custom PRE: ['# Example cell to show custom hooks in action\\n', 'import time\\n', 'for i in range(3):\\n', '    print(f\"Step {i+1}: waiting...\")\\n', '    time.sleep(0.5)\\n', 'print(\"Done!\")\\n']\n",
      "\u001b[92m[REALTIME] Step 1: waiting...\u001b[0m\u001b[92m[REALTIME] Step 2: waiting...\u001b[0m\u001b[92m[REALTIME] Step 2: waiting...\u001b[0m\u001b[92m[REALTIME] Step 3: waiting...\u001b[0m\u001b[92m[REALTIME] Step 3: waiting...\u001b[0m\u001b[92m[REALTIME] Done!\u001b[0mCustom POST: None 1.6689300537109375e-06 ['# Example cell to show custom hooks in action\\n', 'import time\\n', 'for i in range(3):\\n', '    print(f\"Step {i+1}: waiting...\")\\n', '    time.sleep(0.5)\\n', 'print(\"Done!\")\\n']\n",
      "\u001b[92m[REALTIME] Done!\u001b[0mCustom POST: None 1.6689300537109375e-06 ['# Example cell to show custom hooks in action\\n', 'import time\\n', 'for i in range(3):\\n', '    print(f\"Step {i+1}: waiting...\")\\n', '    time.sleep(0.5)\\n', 'print(\"Done!\")\\n']\n"
     ]
    }
   ],
   "source": [
    "# Example cell to show custom hooks in action\n",
    "import time\n",
    "for i in range(3):\n",
    "    print(f\"Step {i+1}: waiting...\")\n",
    "    time.sleep(0.5)\n",
    "print(\"Done!\")"
   ]
  },
  {
   "cell_type": "code",
   "execution_count": null,
   "id": "64389a10",
   "metadata": {},
   "outputs": [],
   "source": [
    "# Example: blocking pre_run with sleep\n",
    "import time\n",
    "\n",
    "def my_pre_block(cell_content):\n",
    "    print('Custom PRE (blocking):', cell_content)\n",
    "    print('Sleeping for 3 seconds before allowing execution...')\n",
    "    time.sleep(3)\n",
    "    get_ipython().user_ns['_cell_allow_execution'] = True\n",
    "\n",
    "jupyter_kernel_handler.set_hooks(pre_run=my_pre_block, realtime=my_real, post_run=my_post)\n",
    "jupyter_kernel_handler.activate(debug_mode=False, blocking_pre_run=True)\n",
    "\n",
    "# Now run any cell below to see the blocking behavior"
   ]
  }
 ],
 "metadata": {
  "kernelspec": {
   "display_name": "venv",
   "language": "python",
   "name": "python3"
  },
  "language_info": {
   "codemirror_mode": {
    "name": "ipython",
    "version": 3
   },
   "file_extension": ".py",
   "mimetype": "text/x-python",
   "name": "python",
   "nbconvert_exporter": "python",
   "pygments_lexer": "ipython3",
   "version": "3.12.3"
  }
 },
 "nbformat": 4,
 "nbformat_minor": 5
}
